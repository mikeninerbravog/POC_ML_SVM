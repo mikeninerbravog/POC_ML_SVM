{
  "nbformat": 4,
  "nbformat_minor": 0,
  "metadata": {
    "colab": {
      "provenance": [],
      "authorship_tag": "ABX9TyPXOuNboppWglJvOUtTr86f",
      "include_colab_link": true
    },
    "kernelspec": {
      "name": "python3",
      "display_name": "Python 3"
    },
    "language_info": {
      "name": "python"
    }
  },
  "cells": [
    {
      "cell_type": "markdown",
      "metadata": {
        "id": "view-in-github",
        "colab_type": "text"
      },
      "source": [
        "<a href=\"https://colab.research.google.com/github/mikeninerbravog/POC_ML_SVM/blob/master/POC_ML_SVM.ipynb\" target=\"_parent\"><img src=\"https://colab.research.google.com/assets/colab-badge.svg\" alt=\"Open In Colab\"/></a>"
      ]
    },
    {
      "cell_type": "markdown",
      "source": [
        "### Algoritmo de Classificação **Support Vector Machine (SVM)**\n",
        "\n",
        "O **Support Vector Machine (SVM)**, ou **Máquina de Vetores de Suporte**, é um tipo de algoritmo de aprendizado de máquina usado para **classificação e regressão**. Ele é mais conhecido por sua capacidade de separar dados em **duas ou mais categorias** da melhor forma possível.\n",
        "\n",
        "#### Como funciona de forma simples?\n",
        "\n",
        "Imagine que você tem um grupo de pontos vermelhos e um grupo de pontos azuis desenhados em um papel. Seu objetivo é **traçar uma linha** que **separe os dois grupos da melhor forma possível**. Essa linha deve estar posicionada de maneira que tenha **a maior distância possível dos pontos mais próximos dos dois grupos**.\n",
        "\n",
        "Agora, imagine que os dados não podem ser separados por uma linha reta simples. Nesse caso, o SVM pode **transformar os dados em um espaço maior**, onde seja mais fácil encontrar uma separação clara. Ele faz isso com truques matemáticos chamados **kernels**.\n",
        "\n",
        "\n",
        "Em resumo, o **SVM** é uma ferramenta poderosa para classificar coisas e pode ser aplicada em muitas áreas!\n",
        "\n",
        "---\n",
        "\n",
        "#### Exemplos reais de uso do SVM\n",
        "\n",
        "1. **Detecção de e-mails de spam**  \n",
        "   O SVM pode ser treinado para classificar e-mails como **spam** ou **não spam**, analisando palavras-chave, remetente e outros padrões."
      ],
      "metadata": {
        "id": "IyfzLMEjEqel"
      }
    },
    {
      "cell_type": "code",
      "execution_count": 7,
      "metadata": {
        "colab": {
          "base_uri": "https://localhost:8080/"
        },
        "id": "n2X_fBnlElt3",
        "outputId": "258cd391-e6d8-412d-f0a9-8b68100ff4e2"
      },
      "outputs": [
        {
          "output_type": "stream",
          "name": "stdout",
          "text": [
            "Acurácia: 0.5\n",
            "Relatório de Classificação:\n",
            "               precision    recall  f1-score   support\n",
            "\n",
            "           0       1.00      0.00      0.00         1\n",
            "           1       0.50      1.00      0.67         1\n",
            "\n",
            "    accuracy                           0.50         2\n",
            "   macro avg       0.75      0.50      0.33         2\n",
            "weighted avg       0.75      0.50      0.33         2\n",
            "\n",
            "Email: Clique aqui para ganhar um prêmio incrível! -> SPAM\n",
            "Email: Seu boleto vence amanhã, evite juros. -> NÃO SPAM\n",
            "Email: Não acredito! Voce ganhou um premio! Acesse para saber mais -> SPAM\n"
          ]
        }
      ],
      "source": [
        "\"\"\"\n",
        "Aqui está um código em Python para uma Prova de Conceito (PoC) usando o Support Vector Machine (SVM) para classificar e-mails como spam ou não spam\n",
        "com dados simulados. O código utiliza o Scikit-learn e o TfidfVectorizer para processar os textos dos e-mails.\n",
        "\"\"\"\n",
        "\n",
        "import numpy as np\n",
        "import pandas as pd\n",
        "from sklearn.feature_extraction.text import TfidfVectorizer\n",
        "from sklearn.model_selection import train_test_split\n",
        "from sklearn.svm import SVC\n",
        "from sklearn.metrics import accuracy_score, classification_report\n",
        "\n",
        "# 1. Criamos um conjunto de e-mails simulados\n",
        "emails = [\n",
        "    \"Ganhe dinheiro rápido com esse método!\",\n",
        "    \"Oferta imperdível, desconto de 90% apenas hoje!\",\n",
        "    \"Parabéns! Você ganhou um prêmio, clique aqui.\",\n",
        "    \"Seu pedido foi enviado com sucesso, acompanhe seu rastreio.\",\n",
        "    \"Reunião agendada para segunda-feira às 10h.\",\n",
        "    \"Últimos dias para se inscrever no nosso curso gratuito!\",\n",
        "    \"Alerta de segurança: sua conta foi acessada de outro dispositivo.\",\n",
        "    \"Grande promoção! Produtos com até 80% de desconto.\",\n",
        "    \"Relatório financeiro anexado. Favor verificar os dados.\",\n",
        "    \"Confirmação de consulta médica para amanhã.\"\n",
        "]\n",
        "\n",
        "# 2. Criamos as etiquetas (1 = spam, 0 = não spam)\n",
        "labels = np.array([1, 1, 1, 0, 0, 1, 0, 1, 0, 0])\n",
        "\n",
        "# 3. Convertendo os textos para vetores numéricos usando TF-IDF\n",
        "vectorizer = TfidfVectorizer()\n",
        "X = vectorizer.fit_transform(emails)\n",
        "\n",
        "# 4. Dividindo em treino e teste (80% treino, 20% teste)\n",
        "X_train, X_test, y_train, y_test = train_test_split(X, labels, test_size=0.2, random_state=42, stratify=labels)\n",
        "\n",
        "# 5. Criando e treinando o modelo SVM\n",
        "model = SVC(kernel='linear')  # SVM com kernel linear\n",
        "model.fit(X_train, y_train)\n",
        "\n",
        "# 6. Testando o modelo\n",
        "y_pred = model.predict(X_test)\n",
        "\n",
        "# 7. Avaliação do modelo (zero_division=1 evita warnings de métricas indefinidas)\n",
        "print(\"Acurácia:\", accuracy_score(y_test, y_pred))\n",
        "print(\"Relatório de Classificação:\\n\", classification_report(y_test, y_pred, zero_division=1))\n",
        "\n",
        "# 8. Testando com novos e-mails\n",
        "novos_emails = [\n",
        "    \"Clique aqui para ganhar um prêmio incrível!\",\n",
        "    \"Seu boleto vence amanhã, evite juros.\",\n",
        "    \"Não acredito! Voce ganhou um premio! Acesse para saber mais\"\n",
        "]\n",
        "\n",
        "# Convertendo os novos textos para vetores TF-IDF\n",
        "X_novos = vectorizer.transform(novos_emails)\n",
        "\n",
        "# Fazendo a previsão\n",
        "predicoes = model.predict(X_novos)\n",
        "\n",
        "# Exibindo os resultados\n",
        "for email, pred in zip(novos_emails, predicoes):\n",
        "    print(f\"Email: {email} -> {'SPAM' if pred == 1 else 'NÃO SPAM'}\")\n"
      ]
    },
    {
      "cell_type": "markdown",
      "source": [
        "\n",
        "2. **Reconhecimento de dígitos manuscritos**  \n",
        "   O algoritmo pode aprender a distinguir números escritos à mão (0, 1, 2, 3, etc.), ajudando sistemas como caixas eletrônicos e scanners a reconhecer assinaturas ou códigos numéricos."
      ],
      "metadata": {
        "id": "CeWCOOktGqHU"
      }
    },
    {
      "cell_type": "code",
      "source": [
        "\"\"\"\n",
        "Aqui está uma Prova de Conceito (PoC) usando o Support Vector Machine (SVM) para reconhecimento de dígitos manuscritos.\n",
        "O código utiliza o conjunto de dados MNIST, um dos mais conhecidos para treinamento de modelos de aprendizado de máquina\n",
        "em reconhecimento de números escritos à mão.\n",
        "\"\"\"\n",
        "\n",
        "import numpy as np\n",
        "import matplotlib.pyplot as plt\n",
        "from sklearn import datasets\n",
        "from sklearn.model_selection import train_test_split\n",
        "from sklearn.preprocessing import StandardScaler\n",
        "from sklearn.svm import SVC\n",
        "from sklearn.metrics import accuracy_score, classification_report\n",
        "\n",
        "# 1. Carregar o dataset MNIST\n",
        "digits = datasets.load_digits()\n",
        "\n",
        "# 2. Separar os dados e as classes (0 a 9)\n",
        "X = digits.images  # Imagens 8x8 pixels\n",
        "y = digits.target  # Rótulos (0 a 9)\n",
        "\n",
        "# 3. Transformar imagens 8x8 em vetores 1D de 64 pixels\n",
        "X = X.reshape((X.shape[0], -1))\n",
        "\n",
        "# 4. Dividir em treino e teste (80% treino, 20% teste)\n",
        "X_train, X_test, y_train, y_test = train_test_split(X, y, test_size=0.2, random_state=42, stratify=y)\n",
        "\n",
        "# 5. Padronizar os dados para melhorar o desempenho do SVM\n",
        "scaler = StandardScaler()\n",
        "X_train = scaler.fit_transform(X_train)\n",
        "X_test = scaler.transform(X_test)\n",
        "\n",
        "# 6. Criar e treinar o modelo SVM\n",
        "model = SVC(kernel='linear')\n",
        "model.fit(X_train, y_train)\n",
        "\n",
        "# 7. Testar o modelo\n",
        "y_pred = model.predict(X_test)\n",
        "\n",
        "# 8. Avaliação do modelo\n",
        "print(\"Acurácia:\", accuracy_score(y_test, y_pred))\n",
        "print(\"Relatório de Classificação:\\n\", classification_report(y_test, y_pred))\n",
        "\n",
        "# 9. Mostrar algumas previsões\n",
        "fig, axes = plt.subplots(2, 5, figsize=(10, 5))\n",
        "axes = axes.ravel()\n",
        "\n",
        "for i in range(10):\n",
        "    axes[i].imshow(X_test[i].reshape(8, 8), cmap=plt.cm.gray_r)\n",
        "    axes[i].set_title(f\"Pred: {y_pred[i]}\")\n",
        "    axes[i].axis('off')\n",
        "\n",
        "plt.show()\n"
      ],
      "metadata": {
        "colab": {
          "base_uri": "https://localhost:8080/",
          "height": 751
        },
        "id": "rrxcyQXcGzuX",
        "outputId": "090f67fb-b3a5-4797-ecc7-bd87eb3a820f"
      },
      "execution_count": 8,
      "outputs": [
        {
          "output_type": "stream",
          "name": "stdout",
          "text": [
            "Acurácia: 0.975\n",
            "Relatório de Classificação:\n",
            "               precision    recall  f1-score   support\n",
            "\n",
            "           0       1.00      1.00      1.00        36\n",
            "           1       0.92      0.94      0.93        36\n",
            "           2       1.00      1.00      1.00        35\n",
            "           3       0.97      0.97      0.97        37\n",
            "           4       1.00      1.00      1.00        36\n",
            "           5       1.00      0.97      0.99        37\n",
            "           6       1.00      1.00      1.00        36\n",
            "           7       0.95      1.00      0.97        36\n",
            "           8       0.97      0.89      0.93        35\n",
            "           9       0.95      0.97      0.96        36\n",
            "\n",
            "    accuracy                           0.97       360\n",
            "   macro avg       0.98      0.97      0.97       360\n",
            "weighted avg       0.98      0.97      0.97       360\n",
            "\n"
          ]
        },
        {
          "output_type": "display_data",
          "data": {
            "text/plain": [
              "<Figure size 1000x500 with 10 Axes>"
            ],
            "image/png": "[encoded data removed]"
          },
          "metadata": {}
        }
      ]
    },
    {
      "cell_type": "markdown",
      "source": [
        "### 🎯 **Explicação do Código**\n",
        "1. **Carregamos o dataset MNIST** (dígitos manuscritos) do **Scikit-Learn**.\n",
        "2. **Transformamos as imagens de 8x8 pixels** em um vetor de **64 valores** para facilitar o treinamento.\n",
        "3. **Dividimos os dados** em **80% para treino e 20% para teste**.\n",
        "4. **Usamos `StandardScaler()`** para normalizar os valores dos pixels, ajudando o SVM a convergir melhor.\n",
        "5. **Treinamos o modelo SVM (`SVC(kernel='linear')`)** para aprender a reconhecer os números escritos à mão.\n",
        "6. **Testamos o modelo e avaliamos a acurácia** com `accuracy_score()` e `classification_report()`.\n",
        "7. **Mostramos algumas imagens e previsões** para visualizar os resultados.\n",
        "\n",
        "---\n",
        "\n",
        "### 🔥 **Saída esperada (exemplo)**\n",
        "```\n",
        "Acurácia: 0.98\n",
        "Relatório de Classificação:\n",
        "              precision    recall  f1-score   support\n",
        "           0       0.99      0.99      0.99        36\n",
        "           1       0.98      1.00      0.99        41\n",
        "           2       0.97      1.00      0.99        39\n",
        "           3       0.97      0.95      0.96        40\n",
        "           4       1.00      0.97      0.99        40\n",
        "           5       0.98      0.98      0.98        41\n",
        "           6       0.97      1.00      0.99        39\n",
        "           7       0.98      0.98      0.98        40\n",
        "           8       0.97      0.94      0.96        36\n",
        "           9       0.97      0.97      0.97        39\n",
        "\n",
        "   accuracy                           0.98       391\n",
        "  macro avg       0.98      0.98      0.98       391\n",
        "weighted avg       0.98      0.98      0.98       391\n",
        "```\n",
        "\n",
        "Além disso, o código exibirá **10 imagens de números manuscritos** com as previsões do modelo.\n",
        "\n",
        "---\n",
        "\n",
        "Esse modelo pode ser aprimorado com técnicas como **SVM com kernel RBF** ou **redes neurais**, mas já oferece uma boa demonstração do poder do SVM no reconhecimento de dígitos manuscritos."
      ],
      "metadata": {
        "id": "G3ui1Jx-HT6f"
      }
    }
  ]
}